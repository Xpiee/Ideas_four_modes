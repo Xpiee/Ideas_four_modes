{
 "cells": [
  {
   "cell_type": "code",
   "execution_count": 1,
   "metadata": {},
   "outputs": [],
   "source": [
    "import pandas as pd\n",
    "import os\n",
    "from main_utils_1 import mk_dirs"
   ]
  },
  {
   "cell_type": "code",
   "execution_count": 4,
   "metadata": {},
   "outputs": [
    {
     "name": "stdout",
     "output_type": "stream",
     "text": [
      "1105\n",
      "1106\n",
      "1194\n",
      "1337\n",
      "1390\n",
      "1419\n",
      "1674\n",
      "1765\n",
      "1818\n",
      "1892\n",
      "1929\n",
      "1030\n",
      "1105\n",
      "1106\n",
      "1241\n",
      "1271\n",
      "1314\n",
      "1323\n",
      "1337\n",
      "1372\n",
      "1417\n",
      "1434\n",
      "1544\n",
      "1547\n",
      "1595\n",
      "1629\n",
      "1716\n",
      "1717\n",
      "1744\n",
      "1868\n",
      "1892\n",
      "1953\n"
     ]
    }
   ],
   "source": [
    "''' Re Structuring Session Based Baseline Signals from Virage and MatbII '''\n",
    "\n",
    "## Provide the unstructured synchronized session baseline signals path\n",
    "dataName = ['MatB-II_Clipped_Baseline', 'Virage_Clipped_Baseline']\n",
    "\n",
    "for data in dataName:\n",
    "    main_path = f\"X:/Four modes baseline/{data}/Signals\"\n",
    "    save_pth = f'X:/Four modes baseline/{data}/Raw/ECG_EDA_baseline'\n",
    "\n",
    "    subjects_id = os.listdir(main_path)\n",
    "\n",
    "    ecgrd_cols = ['Timestamp', 'ECG LL-RA CAL',\n",
    "            'ECG LA-RA CAL', 'ECG Vx-RL CAL']\n",
    "    edard_cols = ['Timestamp', 'GSR Conductance CAL']\n",
    "\n",
    "    for sub_id in subjects_id:\n",
    "        subject_path = os.path.join(main_path, sub_id)\n",
    "        print(sub_id)\n",
    "\n",
    "        dirlist = os.listdir(subject_path)\n",
    "        exp_id = [x.split('_')[0] for x in dirlist]\n",
    "\n",
    "        # break\n",
    "        for xid in exp_id:\n",
    "            try:\n",
    "                read_path = os.path.join(subject_path, '{}_baseline.csv'.format(xid))\n",
    "                ecg_df = pd.read_csv(read_path, skipinitialspace=True, usecols=ecgrd_cols)\n",
    "                eda_df = pd.read_csv(read_path, skipinitialspace=True, usecols=edard_cols)\n",
    "\n",
    "                ecg_df.dropna(inplace=True) # removing all the nan rows\n",
    "                eda_df.dropna(inplace=True) # removing all the nan rows\n",
    "\n",
    "                # Putting a check if the signal data is not present in the csv then skip that subject\n",
    "                if len(ecg_df) == 0:\n",
    "                    print('Subject {} does not have ECG signal data for session: {}'.format(sub_id, xid))\n",
    "                    continue\n",
    "                if len(eda_df) == 0:\n",
    "                    print('Subject {} does not have EDA signal data for session: {}'.format(sub_id, xid))\n",
    "                    continue\n",
    "\n",
    "                csv_path = os.path.join(save_pth, '{}'.format(sub_id))\n",
    "                mk_dirs(csv_path)\n",
    "                ecg_df.to_csv(os.path.join(csv_path, 'ecg_{}.csv'.format(xid)), index=False)\n",
    "                eda_df.to_csv(os.path.join(csv_path, 'eda_{}.csv'.format(xid)), index=False)\n",
    "\n",
    "            except FileNotFoundError:\n",
    "                continue"
   ]
  },
  {
   "cell_type": "code",
   "execution_count": 3,
   "metadata": {},
   "outputs": [
    {
     "data": {
      "text/plain": [
       "['exp0', 'exp1', 'exp2', 'exp3']"
      ]
     },
     "execution_count": 3,
     "metadata": {},
     "output_type": "execute_result"
    }
   ],
   "source": [
    "exp_id"
   ]
  },
  {
   "cell_type": "code",
   "execution_count": null,
   "metadata": {},
   "outputs": [],
   "source": [
    "\n"
   ]
  }
 ],
 "metadata": {
  "interpreter": {
   "hash": "88d6b4412dd4a76dfded17268137d7bc4de1ca3bd2623ffa3ac98198f607cdb3"
  },
  "kernelspec": {
   "display_name": "Python 3.8.12 64-bit ('newideas': conda)",
   "language": "python",
   "name": "python3"
  },
  "language_info": {
   "codemirror_mode": {
    "name": "ipython",
    "version": 3
   },
   "file_extension": ".py",
   "mimetype": "text/x-python",
   "name": "python",
   "nbconvert_exporter": "python",
   "pygments_lexer": "ipython3",
   "version": "3.8.12"
  },
  "orig_nbformat": 4
 },
 "nbformat": 4,
 "nbformat_minor": 2
}
