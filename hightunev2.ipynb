{
 "cells": [
  {
   "cell_type": "markdown",
   "metadata": {},
   "source": [
    "# Hyper Parameter Tuning for classifier for four modes"
   ]
  },
  {
   "cell_type": "code",
   "execution_count": 1,
   "metadata": {},
   "outputs": [],
   "source": [
    "import numpy as np\n",
    "import pandas as pd\n",
    "import os"
   ]
  },
  {
   "cell_type": "markdown",
   "metadata": {},
   "source": [
    "# Classifier"
   ]
  },
  {
   "cell_type": "code",
   "execution_count": 2,
   "metadata": {},
   "outputs": [],
   "source": [
    "import pandas as pd\n",
    "import numpy as np\n",
    "import os\n",
    "# from os import path\n",
    "import matplotlib.pyplot as plt\n",
    "import seaborn as sns\n",
    "from sklearn.ensemble import RandomForestClassifier, VotingClassifier\n",
    "from sklearn.preprocessing import StandardScaler, MinMaxScaler, RobustScaler\n",
    "from sklearn.model_selection import KFold, train_test_split\n",
    "from sklearn.metrics import classification_report\n",
    "from numpy import vstack, hstack, stack\n",
    "from collections import Counter\n",
    "from sklearn.model_selection import RandomizedSearchCV\n",
    "import lightgbm\n",
    "from sklearn.multiclass import OneVsRestClassifier, OneVsOneClassifier\n",
    "\n",
    "from sklearn.svm import SVC\n",
    "from sklearn.linear_model import LogisticRegression\n",
    "from sklearn.naive_bayes import GaussianNB"
   ]
  },
  {
   "cell_type": "code",
   "execution_count": 3,
   "metadata": {},
   "outputs": [],
   "source": [
    "from Training_Code.config import SELECTCOLS, ECG_SELECTCOLS, EDA_SELECTCOLS, SELECTFOUR\n",
    "from sklearn.utils import shuffle"
   ]
  },
  {
   "cell_type": "markdown",
   "metadata": {},
   "source": [
    "### Label"
   ]
  },
  {
   "cell_type": "code",
   "execution_count": 4,
   "metadata": {},
   "outputs": [],
   "source": [
    "def make_kfolds(dr_feat_path):\n",
    "    subjects = os.listdir(dr_feat_path)\n",
    "    xtrainDriv = pd.DataFrame()\n",
    "    for subTrain in subjects:\n",
    "        train = pd.read_csv(os.path.join(dr_feat_path, '{}'.format(subTrain)))\n",
    "        train[['scrAmpDF_min','scrRecoveryTime_min', 'scrRiseTime_min']].fillna(0)\n",
    "        if np.isinf(train).values.sum():\n",
    "            cinf = np.isinf(train).values.sum()\n",
    "            print(\"Train Dataframe contains {} values\".format(cinf))\n",
    "        train.replace([np.inf], 9999, inplace=True)        \n",
    "        train.replace([-np.inf], -9999, inplace=True)        \n",
    "\n",
    "        train['scrNumPeaks'] = train['scrNumPeaks'].values.astype(int)\n",
    "        train['scrNumPeaks'] = train['scrNumPeaks'].values.clip(min=0) # converting negatives to zero\n",
    "\n",
    "        train.dropna(inplace=True)\n",
    "        xtrainDriv = xtrainDriv.append(train)\n",
    "        xtrainDriv.reset_index(drop=True, inplace=True)\n",
    "\n",
    "    return xtrainDriv.copy()"
   ]
  },
  {
   "cell_type": "code",
   "execution_count": 17,
   "metadata": {},
   "outputs": [],
   "source": [
    "def read_dataset(dataset, folder, basefolder):\n",
    "    dr_feat_path = r'X:\\All Modes\\All\\{}\\Combine'.format(dataset) # ECG_EDA_Features_Combined_scld\n",
    "    bs_feat_path = r'X:\\All Modes\\All\\{}\\Combine'.format(dataset) # ECG_EDA_Base2_Features_Combined\n",
    "\n",
    "    XtrainDriv = make_kfolds(dr_feat_path)\n",
    "    # XtrainBase = make_kfolds(bs_feat_path)\n",
    "\n",
    "    XtrainDriv = XtrainDriv[SELECTFOUR].copy()\n",
    "    ytrainDriv = list(XtrainDriv['scaled label'].copy())\n",
    "\n",
    "    # XtrainBase = XtrainBase[SELECTFOUR[:-3]].copy()\n",
    "    # ytrainBase = XtrainBase.shape[0] * [0]\n",
    "\n",
    "    XtrainDriv.drop(columns=['label', 'complexity', 'scaled label'], inplace=True)\n",
    "    # XtrainDriv = XtrainDriv.append(XtrainBase)\n",
    "\n",
    "    ytrain = ytrainDriv # + ytrainBase\n",
    "\n",
    "    X = XtrainDriv.values\n",
    "    \n",
    "    X, ytrain = shuffle(X, ytrain, random_state=42)\n",
    "\n",
    "    for idx, val in enumerate(ytrain):\n",
    "        if val <= 4:\n",
    "            ytrain[idx] = 0\n",
    "        else: ytrain[idx] = 1\n",
    "\n",
    "    return X, ytrain"
   ]
  },
  {
   "cell_type": "markdown",
   "metadata": {},
   "source": [
    "## Hyperparameter tuning"
   ]
  },
  {
   "cell_type": "code",
   "execution_count": 84,
   "metadata": {},
   "outputs": [],
   "source": [
    "data, label = read_dataset('MatbII', 'ECG_EDA_Features_Combined_scld', 'ECG_EDA_Base2_Features_Combined')\n",
    "scaler = StandardScaler()\n",
    "data = scaler.fit_transform(data)\n",
    "X_train, X_test, y_train, y_test = train_test_split(data, label, test_size=0.20, random_state=42, shuffle=True)"
   ]
  },
  {
   "cell_type": "code",
   "execution_count": 85,
   "metadata": {},
   "outputs": [
    {
     "data": {
      "text/plain": [
       "(2352, 315)"
      ]
     },
     "execution_count": 85,
     "metadata": {},
     "output_type": "execute_result"
    }
   ],
   "source": [
    "X_train.shape"
   ]
  },
  {
   "cell_type": "code",
   "execution_count": 86,
   "metadata": {},
   "outputs": [
    {
     "name": "stdout",
     "output_type": "stream",
     "text": [
      "Fitting 3 folds for each of 50 candidates, totalling 150 fits\n"
     ]
    },
    {
     "data": {
      "text/plain": [
       "RandomizedSearchCV(cv=3, estimator=RandomForestClassifier(), n_iter=50,\n",
       "                   n_jobs=-1,\n",
       "                   param_distributions={'bootstrap': [True, False],\n",
       "                                        'class_weight': ['balanced'],\n",
       "                                        'max_depth': [30, 50, 70, None],\n",
       "                                        'max_features': ['auto', 'sqrt'],\n",
       "                                        'min_samples_leaf': [1, 2, 4],\n",
       "                                        'min_samples_split': [2, 5, 10],\n",
       "                                        'n_estimators': [100, 800, 1000, 2000,\n",
       "                                                         3000]},\n",
       "                   random_state=42, verbose=2)"
      ]
     },
     "execution_count": 86,
     "metadata": {},
     "output_type": "execute_result"
    }
   ],
   "source": [
    "random_grid = {'bootstrap': [True, False],\n",
    " 'max_depth': [30, 50, 70, None],\n",
    " 'max_features': ['auto', 'sqrt'],\n",
    " 'min_samples_leaf': [1, 2, 4],\n",
    " 'min_samples_split': [2, 5, 10],\n",
    " 'n_estimators': [100, 800, 1000, 2000, 3000], 'class_weight': ['balanced']}\n",
    "\n",
    "rf = RandomForestClassifier()\n",
    "rf_random = RandomizedSearchCV(estimator = rf, param_distributions = random_grid, n_iter = 50, cv = 3, verbose=2, random_state=42, n_jobs = -1)\n",
    "rf_random.fit(X_train, y_train)"
   ]
  },
  {
   "cell_type": "code",
   "execution_count": 87,
   "metadata": {},
   "outputs": [
    {
     "data": {
      "text/plain": [
       "{'n_estimators': 800,\n",
       " 'min_samples_split': 10,\n",
       " 'min_samples_leaf': 1,\n",
       " 'max_features': 'sqrt',\n",
       " 'max_depth': None,\n",
       " 'class_weight': 'balanced',\n",
       " 'bootstrap': False}"
      ]
     },
     "execution_count": 87,
     "metadata": {},
     "output_type": "execute_result"
    }
   ],
   "source": [
    "rf_random.best_params_"
   ]
  },
  {
   "cell_type": "code",
   "execution_count": null,
   "metadata": {},
   "outputs": [],
   "source": [
    "{'n_estimators': 2000,\n",
    " 'min_samples_split': 2,\n",
    " 'min_samples_leaf': 1,\n",
    " 'max_features': 'auto',\n",
    " 'max_depth': 50,\n",
    " 'bootstrap': False}"
   ]
  },
  {
   "cell_type": "code",
   "execution_count": 88,
   "metadata": {},
   "outputs": [
    {
     "name": "stdout",
     "output_type": "stream",
     "text": [
      "              precision    recall  f1-score   support\n",
      "\n",
      "           0       0.74      0.68      0.71       260\n",
      "           1       0.76      0.81      0.78       329\n",
      "\n",
      "    accuracy                           0.75       589\n",
      "   macro avg       0.75      0.75      0.75       589\n",
      "weighted avg       0.75      0.75      0.75       589\n",
      "\n"
     ]
    }
   ],
   "source": [
    "model = rf_random.best_estimator_\n",
    "hist = model.fit(X_train, y_train)\n",
    "predicted_y = model.predict(X_test)\n",
    "print(classification_report(y_test, predicted_y))"
   ]
  },
  {
   "cell_type": "code",
   "execution_count": 20,
   "metadata": {},
   "outputs": [],
   "source": [
    "data, label = read_dataset('Virage', 'ECG_EDA_Features_Combined_scld', 'ECG_EDA_Base2_Features_Combined')\n",
    "X_train, X_test, y_train, y_test = train_test_split(data, label, test_size=0.20, random_state=42, shuffle=True)"
   ]
  },
  {
   "cell_type": "code",
   "execution_count": 21,
   "metadata": {},
   "outputs": [
    {
     "data": {
      "text/plain": [
       "(2141, 315)"
      ]
     },
     "execution_count": 21,
     "metadata": {},
     "output_type": "execute_result"
    }
   ],
   "source": [
    "X_train.shape"
   ]
  },
  {
   "cell_type": "code",
   "execution_count": 22,
   "metadata": {},
   "outputs": [
    {
     "name": "stdout",
     "output_type": "stream",
     "text": [
      "Fitting 3 folds for each of 50 candidates, totalling 150 fits\n"
     ]
    },
    {
     "data": {
      "text/plain": [
       "RandomizedSearchCV(cv=3, estimator=RandomForestClassifier(), n_iter=50,\n",
       "                   n_jobs=-1,\n",
       "                   param_distributions={'bootstrap': [True, False],\n",
       "                                        'max_depth': [30, 50, 70, None],\n",
       "                                        'max_features': ['auto', 'sqrt'],\n",
       "                                        'min_samples_leaf': [1, 2, 4],\n",
       "                                        'min_samples_split': [2, 5, 10],\n",
       "                                        'n_estimators': [100, 800, 1000, 2000,\n",
       "                                                         3000]},\n",
       "                   random_state=42, verbose=2)"
      ]
     },
     "execution_count": 22,
     "metadata": {},
     "output_type": "execute_result"
    }
   ],
   "source": [
    "random_grid = {'bootstrap': [True, False],\n",
    " 'max_depth': [30, 50, 70, None],\n",
    " 'max_features': ['auto', 'sqrt'],\n",
    " 'min_samples_leaf': [1, 2, 4],\n",
    " 'min_samples_split': [2, 5, 10],\n",
    " 'n_estimators': [100, 800, 1000, 2000, 3000]}\n",
    "\n",
    "rf = RandomForestClassifier()\n",
    "rf_random = RandomizedSearchCV(estimator = rf, param_distributions = random_grid, n_iter = 50, cv = 3, verbose=2, random_state=42, n_jobs = -1)\n",
    "rf_random.fit(X_train, y_train)"
   ]
  },
  {
   "cell_type": "code",
   "execution_count": 23,
   "metadata": {},
   "outputs": [
    {
     "data": {
      "text/plain": [
       "{'n_estimators': 2000,\n",
       " 'min_samples_split': 2,\n",
       " 'min_samples_leaf': 1,\n",
       " 'max_features': 'auto',\n",
       " 'max_depth': 50,\n",
       " 'bootstrap': False}"
      ]
     },
     "execution_count": 23,
     "metadata": {},
     "output_type": "execute_result"
    }
   ],
   "source": [
    "rf_random.best_params_"
   ]
  },
  {
   "cell_type": "code",
   "execution_count": 24,
   "metadata": {},
   "outputs": [
    {
     "name": "stdout",
     "output_type": "stream",
     "text": [
      "              precision    recall  f1-score   support\n",
      "\n",
      "           0       0.87      0.69      0.77       205\n",
      "           1       0.83      0.94      0.88       331\n",
      "\n",
      "    accuracy                           0.84       536\n",
      "   macro avg       0.85      0.81      0.82       536\n",
      "weighted avg       0.84      0.84      0.84       536\n",
      "\n"
     ]
    }
   ],
   "source": [
    "model = rf_random.best_estimator_\n",
    "hist = model.fit(X_train, y_train)\n",
    "predicted_y = model.predict(X_test)\n",
    "print(classification_report(y_test, predicted_y))"
   ]
  },
  {
   "cell_type": "code",
   "execution_count": 25,
   "metadata": {},
   "outputs": [
    {
     "data": {
      "text/plain": [
       "SelectFromModel(estimator=RandomForestClassifier(bootstrap=False, max_depth=30,\n",
       "                                                 n_estimators=2000))"
      ]
     },
     "execution_count": 25,
     "metadata": {},
     "output_type": "execute_result"
    }
   ],
   "source": [
    "from sklearn.feature_selection import SelectFromModel\n",
    "sel = SelectFromModel(model)\n",
    "sel.fit(X_train, y_train)"
   ]
  },
  {
   "cell_type": "code",
   "execution_count": null,
   "metadata": {},
   "outputs": [],
   "source": []
  },
  {
   "cell_type": "markdown",
   "metadata": {},
   "source": [
    "# SVM"
   ]
  },
  {
   "cell_type": "code",
   "execution_count": 60,
   "metadata": {},
   "outputs": [
    {
     "name": "stderr",
     "output_type": "stream",
     "text": [
      "C:\\Users\\Anubhav\\anaconda3\\envs\\ideas\\lib\\site-packages\\sklearn\\model_selection\\_search.py:285: UserWarning: The total space of parameters 4 is smaller than n_iter=50. Running 4 iterations. For exhaustive searches, use GridSearchCV.\n",
      "  warnings.warn(\n"
     ]
    },
    {
     "name": "stdout",
     "output_type": "stream",
     "text": [
      "Fitting 10 folds for each of 4 candidates, totalling 40 fits\n"
     ]
    },
    {
     "data": {
      "text/plain": [
       "RandomizedSearchCV(cv=10, estimator=SVC(), n_iter=50, n_jobs=-1,\n",
       "                   param_distributions={'C': [1, 5, 15, 20],\n",
       "                                        'class_weight': ['balanced'],\n",
       "                                        'kernel': ['rbf']},\n",
       "                   random_state=42, verbose=2)"
      ]
     },
     "execution_count": 60,
     "metadata": {},
     "output_type": "execute_result"
    }
   ],
   "source": [
    "data, label = read_dataset('MatbII', 'ECG_EDA_Features_Combined_scld', 'ECG_EDA_Base2_Features_Combined')\n",
    "scaler = StandardScaler()\n",
    "data = scaler.fit_transform(data)\n",
    "X_train, X_test, y_train, y_test = train_test_split(data, label, test_size=0.20, random_state=42, shuffle=True)\n",
    "\n",
    "parameters = {'C': [1, 5, 15, 20], 'kernel':['rbf'], 'class_weight': ['balanced']}\n",
    "\n",
    "svc_ = SVC()\n",
    "rf_random = RandomizedSearchCV(estimator = svc_, param_distributions = parameters, n_iter = 50, cv = 10, verbose=2, random_state=42, n_jobs = -1)\n",
    "rf_random.fit(X_train, y_train)"
   ]
  },
  {
   "cell_type": "code",
   "execution_count": 61,
   "metadata": {},
   "outputs": [
    {
     "data": {
      "text/plain": [
       "(2352, 315)"
      ]
     },
     "execution_count": 61,
     "metadata": {},
     "output_type": "execute_result"
    }
   ],
   "source": [
    "X_train.shape"
   ]
  },
  {
   "cell_type": "code",
   "execution_count": 62,
   "metadata": {},
   "outputs": [
    {
     "data": {
      "text/plain": [
       "{'kernel': 'rbf', 'class_weight': 'balanced', 'C': 5}"
      ]
     },
     "execution_count": 62,
     "metadata": {},
     "output_type": "execute_result"
    }
   ],
   "source": [
    "rf_random.best_params_"
   ]
  },
  {
   "cell_type": "code",
   "execution_count": 63,
   "metadata": {},
   "outputs": [
    {
     "name": "stdout",
     "output_type": "stream",
     "text": [
      "              precision    recall  f1-score   support\n",
      "\n",
      "           0       0.69      0.73      0.71       260\n",
      "           1       0.78      0.74      0.76       329\n",
      "\n",
      "    accuracy                           0.74       589\n",
      "   macro avg       0.74      0.74      0.74       589\n",
      "weighted avg       0.74      0.74      0.74       589\n",
      "\n"
     ]
    }
   ],
   "source": [
    "model = rf_random.best_estimator_\n",
    "hist = model.fit(X_train, y_train)\n",
    "predicted_y = model.predict(X_test)\n",
    "print(classification_report(y_test, predicted_y))"
   ]
  },
  {
   "cell_type": "code",
   "execution_count": 57,
   "metadata": {},
   "outputs": [
    {
     "name": "stderr",
     "output_type": "stream",
     "text": [
      "C:\\Users\\Anubhav\\anaconda3\\envs\\ideas\\lib\\site-packages\\sklearn\\model_selection\\_search.py:285: UserWarning: The total space of parameters 4 is smaller than n_iter=50. Running 4 iterations. For exhaustive searches, use GridSearchCV.\n",
      "  warnings.warn(\n"
     ]
    },
    {
     "name": "stdout",
     "output_type": "stream",
     "text": [
      "Fitting 10 folds for each of 4 candidates, totalling 40 fits\n"
     ]
    },
    {
     "data": {
      "text/plain": [
       "RandomizedSearchCV(cv=10, estimator=SVC(), n_iter=50, n_jobs=-1,\n",
       "                   param_distributions={'C': [1, 5, 15, 20],\n",
       "                                        'class_weight': ['balanced'],\n",
       "                                        'kernel': ['rbf']},\n",
       "                   random_state=42, verbose=2)"
      ]
     },
     "execution_count": 57,
     "metadata": {},
     "output_type": "execute_result"
    }
   ],
   "source": [
    "data, label = read_dataset('Virage', 'ECG_EDA_Features_Combined_scld', 'ECG_EDA_Base2_Features_Combined')\n",
    "scaler = StandardScaler()\n",
    "data = scaler.fit_transform(data)\n",
    "X_train, X_test, y_train, y_test = train_test_split(data, label, test_size=0.20, random_state=42, shuffle=True)\n",
    "\n",
    "parameters = {'C': [1, 5, 15, 20], 'kernel':['rbf'], 'class_weight': ['balanced']}\n",
    "\n",
    "svc_ = SVC()\n",
    "rf_random = RandomizedSearchCV(estimator = svc_, param_distributions = parameters, n_iter = 50, cv = 10, verbose=2, random_state=42, n_jobs = -1)\n",
    "rf_random.fit(X_train, y_train)"
   ]
  },
  {
   "cell_type": "code",
   "execution_count": 58,
   "metadata": {},
   "outputs": [
    {
     "data": {
      "text/plain": [
       "{'kernel': 'rbf', 'class_weight': 'balanced', 'C': 20}"
      ]
     },
     "execution_count": 58,
     "metadata": {},
     "output_type": "execute_result"
    }
   ],
   "source": [
    "rf_random.best_params_"
   ]
  },
  {
   "cell_type": "code",
   "execution_count": 59,
   "metadata": {},
   "outputs": [
    {
     "name": "stdout",
     "output_type": "stream",
     "text": [
      "              precision    recall  f1-score   support\n",
      "\n",
      "           0       0.79      0.73      0.76       205\n",
      "           1       0.84      0.88      0.86       331\n",
      "\n",
      "    accuracy                           0.82       536\n",
      "   macro avg       0.82      0.81      0.81       536\n",
      "weighted avg       0.82      0.82      0.82       536\n",
      "\n"
     ]
    }
   ],
   "source": [
    "model = rf_random.best_estimator_\n",
    "hist = model.fit(X_train, y_train)\n",
    "predicted_y = model.predict(X_test)\n",
    "print(classification_report(y_test, predicted_y))"
   ]
  },
  {
   "cell_type": "markdown",
   "metadata": {},
   "source": [
    "# Logistic Regression"
   ]
  },
  {
   "cell_type": "code",
   "execution_count": 75,
   "metadata": {},
   "outputs": [
    {
     "name": "stderr",
     "output_type": "stream",
     "text": [
      "C:\\Users\\Anubhav\\anaconda3\\envs\\ideas\\lib\\site-packages\\sklearn\\model_selection\\_search.py:285: UserWarning: The total space of parameters 16 is smaller than n_iter=100. Running 16 iterations. For exhaustive searches, use GridSearchCV.\n",
      "  warnings.warn(\n"
     ]
    },
    {
     "name": "stdout",
     "output_type": "stream",
     "text": [
      "Fitting 5 folds for each of 16 candidates, totalling 80 fits\n"
     ]
    },
    {
     "data": {
      "text/plain": [
       "RandomizedSearchCV(cv=5, estimator=LogisticRegression(), n_iter=100, n_jobs=-1,\n",
       "                   param_distributions={'C': [0.5, 1, 5, 10],\n",
       "                                        'class_weight': ['balanced'],\n",
       "                                        'max_iter': [400, 500, 600, 1000]},\n",
       "                   random_state=42, verbose=2)"
      ]
     },
     "execution_count": 75,
     "metadata": {},
     "output_type": "execute_result"
    }
   ],
   "source": [
    "from sklearn.preprocessing import StandardScaler\n",
    "\n",
    "data, label = read_dataset('MatbII', 'ECG_EDA_Features_Combined_scld', 'ECG_EDA_Base2_Features_Combined')\n",
    "\n",
    "scaler = StandardScaler()\n",
    "data = scaler.fit_transform(data)\n",
    "\n",
    "X_train, X_test, y_train, y_test = train_test_split(data, label, test_size=0.20, random_state=42, shuffle=True)\n",
    "\n",
    "\n",
    "parameters_lr = {'C': [0.5, 1, 5, 10], 'max_iter': [400, 500, 600, 1000], 'class_weight': ['balanced']}\n",
    "\n",
    "lr_ = LogisticRegression()\n",
    "rf_random = RandomizedSearchCV(estimator = lr_, param_distributions = parameters_lr, n_iter = 100, cv = 5, verbose=2, random_state=42, n_jobs = -1)\n",
    "rf_random.fit(X_train, y_train)"
   ]
  },
  {
   "cell_type": "code",
   "execution_count": 76,
   "metadata": {},
   "outputs": [
    {
     "data": {
      "text/plain": [
       "{'max_iter': 400, 'class_weight': 'balanced', 'C': 0.5}"
      ]
     },
     "execution_count": 76,
     "metadata": {},
     "output_type": "execute_result"
    }
   ],
   "source": [
    "rf_random.best_params_"
   ]
  },
  {
   "cell_type": "code",
   "execution_count": 77,
   "metadata": {},
   "outputs": [
    {
     "name": "stdout",
     "output_type": "stream",
     "text": [
      "              precision    recall  f1-score   support\n",
      "\n",
      "           0       0.61      0.65      0.63       260\n",
      "           1       0.71      0.67      0.69       329\n",
      "\n",
      "    accuracy                           0.66       589\n",
      "   macro avg       0.66      0.66      0.66       589\n",
      "weighted avg       0.67      0.66      0.66       589\n",
      "\n"
     ]
    }
   ],
   "source": [
    "model = rf_random.best_estimator_\n",
    "hist = model.fit(X_train, y_train)\n",
    "predicted_y = model.predict(X_test)\n",
    "print(classification_report(y_test, predicted_y))"
   ]
  },
  {
   "cell_type": "code",
   "execution_count": 72,
   "metadata": {},
   "outputs": [
    {
     "name": "stderr",
     "output_type": "stream",
     "text": [
      "C:\\Users\\Anubhav\\anaconda3\\envs\\ideas\\lib\\site-packages\\sklearn\\model_selection\\_search.py:285: UserWarning: The total space of parameters 8 is smaller than n_iter=100. Running 8 iterations. For exhaustive searches, use GridSearchCV.\n",
      "  warnings.warn(\n"
     ]
    },
    {
     "name": "stdout",
     "output_type": "stream",
     "text": [
      "Fitting 5 folds for each of 8 candidates, totalling 40 fits\n"
     ]
    },
    {
     "data": {
      "text/plain": [
       "RandomizedSearchCV(cv=5, estimator=LogisticRegression(), n_iter=100, n_jobs=-1,\n",
       "                   param_distributions={'C': [0.5, 1, 5, 10],\n",
       "                                        'class_weight': ['balanced'],\n",
       "                                        'max_iter': [1000, 1500]},\n",
       "                   random_state=42, verbose=2)"
      ]
     },
     "execution_count": 72,
     "metadata": {},
     "output_type": "execute_result"
    }
   ],
   "source": [
    "from sklearn.preprocessing import StandardScaler\n",
    "\n",
    "data, label = read_dataset('Virage', 'ECG_EDA_Features_Combined_scld', 'ECG_EDA_Base2_Features_Combined')\n",
    "\n",
    "scaler = StandardScaler()\n",
    "data = scaler.fit_transform(data)\n",
    "\n",
    "X_train, X_test, y_train, y_test = train_test_split(data, label, test_size=0.20, random_state=42, shuffle=True)\n",
    "\n",
    "\n",
    "parameters_lr = {'C': [0.5, 1, 5, 10], 'max_iter': [1000, 1500], 'class_weight': ['balanced']}\n",
    "\n",
    "lr_ = LogisticRegression()\n",
    "rf_random = RandomizedSearchCV(estimator = lr_, param_distributions = parameters_lr, n_iter = 100, cv = 5, verbose=2, random_state=42, n_jobs = -1)\n",
    "rf_random.fit(X_train, y_train)"
   ]
  },
  {
   "cell_type": "code",
   "execution_count": 73,
   "metadata": {},
   "outputs": [
    {
     "data": {
      "text/plain": [
       "{'max_iter': 1000, 'class_weight': 'balanced', 'C': 0.5}"
      ]
     },
     "execution_count": 73,
     "metadata": {},
     "output_type": "execute_result"
    }
   ],
   "source": [
    "rf_random.best_params_"
   ]
  },
  {
   "cell_type": "code",
   "execution_count": 74,
   "metadata": {},
   "outputs": [
    {
     "name": "stdout",
     "output_type": "stream",
     "text": [
      "              precision    recall  f1-score   support\n",
      "\n",
      "           0       0.65      0.79      0.71       205\n",
      "           1       0.85      0.74      0.79       331\n",
      "\n",
      "    accuracy                           0.76       536\n",
      "   macro avg       0.75      0.76      0.75       536\n",
      "weighted avg       0.77      0.76      0.76       536\n",
      "\n"
     ]
    }
   ],
   "source": [
    "model = rf_random.best_estimator_\n",
    "hist = model.fit(X_train, y_train)\n",
    "predicted_y = model.predict(X_test)\n",
    "print(classification_report(y_test, predicted_y))"
   ]
  },
  {
   "cell_type": "code",
   "execution_count": null,
   "metadata": {},
   "outputs": [],
   "source": []
  },
  {
   "cell_type": "code",
   "execution_count": null,
   "metadata": {},
   "outputs": [],
   "source": []
  },
  {
   "cell_type": "markdown",
   "metadata": {},
   "source": [
    "# LGBM"
   ]
  },
  {
   "cell_type": "code",
   "execution_count": 78,
   "metadata": {},
   "outputs": [
    {
     "name": "stdout",
     "output_type": "stream",
     "text": [
      "Fitting 5 folds for each of 50 candidates, totalling 250 fits\n"
     ]
    },
    {
     "data": {
      "text/plain": [
       "RandomizedSearchCV(cv=5, estimator=LGBMClassifier(), n_iter=50, n_jobs=-1,\n",
       "                   param_distributions={'boosting_type': ['gbdt', 'dart'],\n",
       "                                        'class_weight': ['balanced'],\n",
       "                                        'importance_type': ['split', 'gains'],\n",
       "                                        'learning_rate': [0.1, 0.01, 0.05],\n",
       "                                        'n_estimators': [1000, 500, 200, 1500],\n",
       "                                        'num_leaves': [100, 500, 1000],\n",
       "                                        'reg_lambda': [0.01, 0.001]},\n",
       "                   random_state=42, verbose=2)"
      ]
     },
     "execution_count": 78,
     "metadata": {},
     "output_type": "execute_result"
    }
   ],
   "source": [
    "data, label = read_dataset('MatbII', 'ECG_EDA_Features_Combined_scld', 'ECG_EDA_Base2_Features_Combined')\n",
    "scaler = StandardScaler()\n",
    "data = scaler.fit_transform(data)\n",
    "X_train, X_test, y_train, y_test = train_test_split(data, label, test_size=0.20, random_state=42, shuffle=True)\n",
    "\n",
    "import lightgbm as lgb\n",
    "lgbmcls = lgb.LGBMClassifier()\n",
    "default_params = lgbmcls.get_params()\n",
    "\n",
    "params = {'boosting_type': ['gbdt', 'dart'],\n",
    " 'class_weight': ['balanced'],\n",
    " 'importance_type': ['split', 'gains'],\n",
    " 'learning_rate': [0.1, 0.01, 0.05],\n",
    " 'n_estimators': [1000, 500, 200, 1500],\n",
    " 'num_leaves': [100, 500, 1000],\n",
    " 'reg_lambda': [0.01, 0.001]}\n",
    "\n",
    "lgb_ = lgb.LGBMClassifier()\n",
    "rf_random = RandomizedSearchCV(estimator = lgb_, param_distributions = params, n_iter = 50, cv = 5, verbose=2, random_state=42, n_jobs = -1)\n",
    "rf_random.fit(X_train, y_train)"
   ]
  },
  {
   "cell_type": "code",
   "execution_count": 79,
   "metadata": {},
   "outputs": [
    {
     "data": {
      "text/plain": [
       "{'reg_lambda': 0.01,\n",
       " 'num_leaves': 100,\n",
       " 'n_estimators': 1000,\n",
       " 'learning_rate': 0.1,\n",
       " 'importance_type': 'gains',\n",
       " 'class_weight': 'balanced',\n",
       " 'boosting_type': 'dart'}"
      ]
     },
     "execution_count": 79,
     "metadata": {},
     "output_type": "execute_result"
    }
   ],
   "source": [
    "rf_random.best_params_"
   ]
  },
  {
   "cell_type": "code",
   "execution_count": 80,
   "metadata": {},
   "outputs": [
    {
     "name": "stdout",
     "output_type": "stream",
     "text": [
      "              precision    recall  f1-score   support\n",
      "\n",
      "           0       0.76      0.67      0.71       260\n",
      "           1       0.76      0.83      0.80       329\n",
      "\n",
      "    accuracy                           0.76       589\n",
      "   macro avg       0.76      0.75      0.76       589\n",
      "weighted avg       0.76      0.76      0.76       589\n",
      "\n"
     ]
    }
   ],
   "source": [
    "model = rf_random.best_estimator_\n",
    "hist = model.fit(X_train, y_train)\n",
    "predicted_y = model.predict(X_test)\n",
    "print(classification_report(y_test, predicted_y))"
   ]
  },
  {
   "cell_type": "code",
   "execution_count": 81,
   "metadata": {},
   "outputs": [
    {
     "name": "stdout",
     "output_type": "stream",
     "text": [
      "Fitting 5 folds for each of 25 candidates, totalling 125 fits\n"
     ]
    },
    {
     "data": {
      "text/plain": [
       "RandomizedSearchCV(cv=5, estimator=LGBMClassifier(), n_iter=25, n_jobs=-1,\n",
       "                   param_distributions={'boosting_type': ['gbdt', 'dart'],\n",
       "                                        'class_weight': ['balanced'],\n",
       "                                        'importance_type': ['split', 'gains'],\n",
       "                                        'learning_rate': [0.1, 0.01, 0.05],\n",
       "                                        'n_estimators': [1000, 500, 200, 1500],\n",
       "                                        'num_leaves': [100, 500, 1000],\n",
       "                                        'reg_lambda': [0.01, 0.001]},\n",
       "                   random_state=42, verbose=2)"
      ]
     },
     "execution_count": 81,
     "metadata": {},
     "output_type": "execute_result"
    }
   ],
   "source": [
    "data, label = read_dataset('Virage', 'ECG_EDA_Features_Combined_scld', 'ECG_EDA_Base2_Features_Combined')\n",
    "scaler = StandardScaler()\n",
    "data = scaler.fit_transform(data)\n",
    "X_train, X_test, y_train, y_test = train_test_split(data, label, test_size=0.20, random_state=42, shuffle=True)\n",
    "\n",
    "import lightgbm as lgb\n",
    "lgbmcls = lgb.LGBMClassifier()\n",
    "default_params = lgbmcls.get_params()\n",
    "\n",
    "params = {'boosting_type': ['gbdt', 'dart'],\n",
    " 'class_weight': ['balanced'],\n",
    " 'importance_type': ['split', 'gains'],\n",
    " 'learning_rate': [0.1, 0.01, 0.05],\n",
    " 'n_estimators': [1000, 500, 200, 1500],\n",
    " 'num_leaves': [100, 500, 1000],\n",
    " 'reg_lambda': [0.01, 0.001]}\n",
    "\n",
    "lgb_ = lgb.LGBMClassifier()\n",
    "rf_random = RandomizedSearchCV(estimator = lgb_, param_distributions = params, n_iter = 25, cv = 5, verbose=2, random_state=42, n_jobs = -1)\n",
    "rf_random.fit(X_train, y_train)"
   ]
  },
  {
   "cell_type": "code",
   "execution_count": 82,
   "metadata": {},
   "outputs": [
    {
     "data": {
      "text/plain": [
       "{'reg_lambda': 0.01,\n",
       " 'num_leaves': 100,\n",
       " 'n_estimators': 1000,\n",
       " 'learning_rate': 0.1,\n",
       " 'importance_type': 'gains',\n",
       " 'class_weight': 'balanced',\n",
       " 'boosting_type': 'dart'}"
      ]
     },
     "execution_count": 82,
     "metadata": {},
     "output_type": "execute_result"
    }
   ],
   "source": [
    "rf_random.best_params_"
   ]
  },
  {
   "cell_type": "code",
   "execution_count": 83,
   "metadata": {},
   "outputs": [
    {
     "name": "stdout",
     "output_type": "stream",
     "text": [
      "              precision    recall  f1-score   support\n",
      "\n",
      "           0       0.84      0.76      0.80       205\n",
      "           1       0.86      0.91      0.89       331\n",
      "\n",
      "    accuracy                           0.85       536\n",
      "   macro avg       0.85      0.84      0.84       536\n",
      "weighted avg       0.85      0.85      0.85       536\n",
      "\n"
     ]
    }
   ],
   "source": [
    "model = rf_random.best_estimator_\n",
    "hist = model.fit(X_train, y_train)\n",
    "predicted_y = model.predict(X_test)\n",
    "print(classification_report(y_test, predicted_y))"
   ]
  },
  {
   "cell_type": "code",
   "execution_count": null,
   "metadata": {},
   "outputs": [],
   "source": []
  },
  {
   "cell_type": "code",
   "execution_count": null,
   "metadata": {},
   "outputs": [],
   "source": []
  },
  {
   "cell_type": "code",
   "execution_count": null,
   "metadata": {},
   "outputs": [],
   "source": []
  },
  {
   "cell_type": "code",
   "execution_count": null,
   "metadata": {},
   "outputs": [],
   "source": []
  }
 ],
 "metadata": {
  "interpreter": {
   "hash": "7dc62700b74753f542f30963cb889f4e5e3066b8f779affc1c9276d2315ac77c"
  },
  "kernelspec": {
   "display_name": "Python 3.8.8 64-bit ('ideas': conda)",
   "name": "python3"
  },
  "language_info": {
   "codemirror_mode": {
    "name": "ipython",
    "version": 3
   },
   "file_extension": ".py",
   "mimetype": "text/x-python",
   "name": "python",
   "nbconvert_exporter": "python",
   "pygments_lexer": "ipython3",
   "version": "3.8.8"
  },
  "orig_nbformat": 4
 },
 "nbformat": 4,
 "nbformat_minor": 2
}
